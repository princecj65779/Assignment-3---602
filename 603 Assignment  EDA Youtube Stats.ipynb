{
  "nbformat": 4,
  "nbformat_minor": 0,
  "metadata": {
    "colab": {
      "name": "Untitled2.ipynb",
      "provenance": [],
      "collapsed_sections": [],
      "mount_file_id": "1Ju_-7Rqug4sSczLq_6xQ7PdS6HO_VOpq",
      "authorship_tag": "ABX9TyPAstMf087vqOYw+pOUmbTy",
      "include_colab_link": true
    },
    "kernelspec": {
      "name": "python3",
      "display_name": "Python 3"
    },
    "language_info": {
      "name": "python"
    }
  },
  "cells": [
    {
      "cell_type": "markdown",
      "metadata": {
        "id": "view-in-github",
        "colab_type": "text"
      },
      "source": [
        "<a href=\"https://colab.research.google.com/github/princecj65779/Assignment-3---602/blob/main/603%20EDA%20Youtube%20Stats.ipynb\" target=\"_parent\"><img src=\"https://colab.research.google.com/assets/colab-badge.svg\" alt=\"Open In Colab\"/></a>"
      ]
    },
    {
      "cell_type": "markdown",
      "metadata": {
        "id": "t3FrBsddQ5DS"
      },
      "source": [
        "# **Exploring YouTube's Trending Video and Comments Datasets**\n",
        "\n",
        "* Exploratory Data Analysis of the 2017 Youtube Statistics from Kaggle.com\n",
        "\n",
        "* Data is from [Kaggle](https://www.kaggle.com/datasnaek/youtube?select=UScomments.csv)\n",
        "\n",
        "* This dataset consists of 11 features with about 7992 rows.\n",
        "\n",
        "* Following are the features of the dataset:"
      ]
    },
    {
      "cell_type": "markdown",
      "metadata": {
        "id": "gQO4qcQUUCW-"
      },
      "source": [
        "### **Specifically, I'll try to answer some questions:**\n",
        "\n",
        "1. Relationship between different categories\n",
        "2. Cleaning any missing data and filling it up(if any)\n",
        "3. What are the most common tags? Do they mean anything for view count?\n",
        "4. Does comments and likes have any relation with respect to the view count. "
      ]
    },
    {
      "cell_type": "markdown",
      "metadata": {
        "id": "ytyQwhYIlvcg"
      },
      "source": [
        "# **1.0 Libraries**"
      ]
    },
    {
      "cell_type": "code",
      "metadata": {
        "colab": {
          "base_uri": "https://localhost:8080/"
        },
        "id": "i0QzuGRmexrD",
        "outputId": "4df7607e-b27d-448a-c6aa-759ddd0ef45c"
      },
      "source": [
        "import pandas as pd\n",
        "import numpy as np\n",
        "import matplotlib.pyplot as plt\n",
        "%matplotlib inline\n",
        "import seaborn as sns\n",
        "%pip install simplejson\n",
        "import simplejson as json\n",
        "! pip install kaggle\n",
        "! mkdir ~/.kaggle\n",
        "! cp kaggle.json ~/.kaggle/\n",
        "! chmod 600 ~/.kaggle/kaggle.json\n",
        "! kaggle datasets download <Trending-YouTube-Video-Statistics-and-Comments>\n"
      ],
      "execution_count": null,
      "outputs": [
        {
          "output_type": "stream",
          "name": "stdout",
          "text": [
            "Requirement already satisfied: simplejson in /usr/local/lib/python3.7/dist-packages (3.17.5)\n",
            "Requirement already satisfied: kaggle in /usr/local/lib/python3.7/dist-packages (1.5.12)\n",
            "Requirement already satisfied: python-dateutil in /usr/local/lib/python3.7/dist-packages (from kaggle) (2.8.2)\n",
            "Requirement already satisfied: python-slugify in /usr/local/lib/python3.7/dist-packages (from kaggle) (5.0.2)\n",
            "Requirement already satisfied: certifi in /usr/local/lib/python3.7/dist-packages (from kaggle) (2021.5.30)\n",
            "Requirement already satisfied: tqdm in /usr/local/lib/python3.7/dist-packages (from kaggle) (4.62.2)\n",
            "Requirement already satisfied: requests in /usr/local/lib/python3.7/dist-packages (from kaggle) (2.23.0)\n",
            "Requirement already satisfied: urllib3 in /usr/local/lib/python3.7/dist-packages (from kaggle) (1.24.3)\n",
            "Requirement already satisfied: six>=1.10 in /usr/local/lib/python3.7/dist-packages (from kaggle) (1.15.0)\n",
            "Requirement already satisfied: text-unidecode>=1.3 in /usr/local/lib/python3.7/dist-packages (from python-slugify->kaggle) (1.3)\n",
            "Requirement already satisfied: chardet<4,>=3.0.2 in /usr/local/lib/python3.7/dist-packages (from requests->kaggle) (3.0.4)\n",
            "Requirement already satisfied: idna<3,>=2.5 in /usr/local/lib/python3.7/dist-packages (from requests->kaggle) (2.10)\n",
            "mkdir: cannot create directory ‘/root/.kaggle’: File exists\n",
            "/bin/bash: -c: line 0: syntax error near unexpected token `newline'\n",
            "/bin/bash: -c: line 0: ` kaggle datasets download <Trending-YouTube-Video-Statistics-and-Comments>'\n"
          ]
        }
      ]
    },
    {
      "cell_type": "markdown",
      "metadata": {
        "id": "F8vvov06mAB7"
      },
      "source": [
        "# **1.1 Data**"
      ]
    },
    {
      "cell_type": "code",
      "metadata": {
        "colab": {
          "base_uri": "https://localhost:8080/"
        },
        "id": "u_CbATcvfvv_",
        "outputId": "ce3cf831-2931-4aff-fe9d-6de541a8afb4"
      },
      "source": [
        "USvideos = pd.read_csv('https://raw.githubusercontent.com/princecj65779/Assignment-3---602/main/Data/USvideos.csv',encoding='utf8',error_bad_lines = False)\n",
        "\n",
        "JSON= pd.read_csv('https://raw.githubusercontent.com/princecj65779/Assignment-3---602/main/Data/US_category_id.json')"
      ],
      "execution_count": null,
      "outputs": [
        {
          "output_type": "stream",
          "name": "stderr",
          "text": [
            "b'Skipping line 2401: expected 11 fields, saw 21\\nSkipping line 2800: expected 11 fields, saw 21\\nSkipping line 5297: expected 11 fields, saw 12\\nSkipping line 5299: expected 11 fields, saw 12\\nSkipping line 5300: expected 11 fields, saw 12\\nSkipping line 5301: expected 11 fields, saw 12\\n'\n"
          ]
        }
      ]
    },
    {
      "cell_type": "code",
      "metadata": {
        "colab": {
          "base_uri": "https://localhost:8080/"
        },
        "id": "He8dF7tle1Lp",
        "outputId": "d1dba4ff-082f-450e-aa5e-e63474847c9e"
      },
      "source": [
        "# Info about the data\n",
        "USvideos.info()"
      ],
      "execution_count": null,
      "outputs": [
        {
          "output_type": "stream",
          "name": "stdout",
          "text": [
            "<class 'pandas.core.frame.DataFrame'>\n",
            "RangeIndex: 7992 entries, 0 to 7991\n",
            "Data columns (total 11 columns):\n",
            " #   Column          Non-Null Count  Dtype  \n",
            "---  ------          --------------  -----  \n",
            " 0   video_id        7992 non-null   object \n",
            " 1   title           7992 non-null   object \n",
            " 2   channel_title   7992 non-null   object \n",
            " 3   category_id     7992 non-null   int64  \n",
            " 4   tags            7992 non-null   object \n",
            " 5   views           7992 non-null   int64  \n",
            " 6   likes           7992 non-null   int64  \n",
            " 7   dislikes        7992 non-null   int64  \n",
            " 8   comment_total   7992 non-null   int64  \n",
            " 9   thumbnail_link  7992 non-null   object \n",
            " 10  date            7992 non-null   float64\n",
            "dtypes: float64(1), int64(5), object(5)\n",
            "memory usage: 686.9+ KB\n"
          ]
        }
      ]
    },
    {
      "cell_type": "markdown",
      "metadata": {
        "id": "ZUA3PO5bhwST"
      },
      "source": [
        "There are 11 columns with 7992 rows."
      ]
    },
    {
      "cell_type": "code",
      "metadata": {
        "colab": {
          "base_uri": "https://localhost:8080/",
          "height": 458
        },
        "id": "QMe7S_pBhRYs",
        "outputId": "7c5c42ea-3168-4ec6-ba36-f3e303594d21"
      },
      "source": [
        "# Info about the data\n",
        "USvideos.head()"
      ],
      "execution_count": null,
      "outputs": [
        {
          "output_type": "execute_result",
          "data": {
            "text/html": [
              "<div>\n",
              "<style scoped>\n",
              "    .dataframe tbody tr th:only-of-type {\n",
              "        vertical-align: middle;\n",
              "    }\n",
              "\n",
              "    .dataframe tbody tr th {\n",
              "        vertical-align: top;\n",
              "    }\n",
              "\n",
              "    .dataframe thead th {\n",
              "        text-align: right;\n",
              "    }\n",
              "</style>\n",
              "<table border=\"1\" class=\"dataframe\">\n",
              "  <thead>\n",
              "    <tr style=\"text-align: right;\">\n",
              "      <th></th>\n",
              "      <th>video_id</th>\n",
              "      <th>title</th>\n",
              "      <th>channel_title</th>\n",
              "      <th>category_id</th>\n",
              "      <th>tags</th>\n",
              "      <th>views</th>\n",
              "      <th>likes</th>\n",
              "      <th>dislikes</th>\n",
              "      <th>comment_total</th>\n",
              "      <th>thumbnail_link</th>\n",
              "      <th>date</th>\n",
              "    </tr>\n",
              "  </thead>\n",
              "  <tbody>\n",
              "    <tr>\n",
              "      <th>0</th>\n",
              "      <td>XpVt6Z1Gjjo</td>\n",
              "      <td>1 YEAR OF VLOGGING -- HOW LOGAN PAUL CHANGED Y...</td>\n",
              "      <td>Logan Paul Vlogs</td>\n",
              "      <td>24</td>\n",
              "      <td>logan paul vlog|logan paul|logan|paul|olympics...</td>\n",
              "      <td>4394029</td>\n",
              "      <td>320053</td>\n",
              "      <td>5931</td>\n",
              "      <td>46245</td>\n",
              "      <td>https://i.ytimg.com/vi/XpVt6Z1Gjjo/default.jpg</td>\n",
              "      <td>13.09</td>\n",
              "    </tr>\n",
              "    <tr>\n",
              "      <th>1</th>\n",
              "      <td>K4wEI5zhHB0</td>\n",
              "      <td>iPhone X — Introducing iPhone X — Apple</td>\n",
              "      <td>Apple</td>\n",
              "      <td>28</td>\n",
              "      <td>Apple|iPhone 10|iPhone Ten|iPhone|Portrait Lig...</td>\n",
              "      <td>7860119</td>\n",
              "      <td>185853</td>\n",
              "      <td>26679</td>\n",
              "      <td>0</td>\n",
              "      <td>https://i.ytimg.com/vi/K4wEI5zhHB0/default.jpg</td>\n",
              "      <td>13.09</td>\n",
              "    </tr>\n",
              "    <tr>\n",
              "      <th>2</th>\n",
              "      <td>cLdxuaxaQwc</td>\n",
              "      <td>My Response</td>\n",
              "      <td>PewDiePie</td>\n",
              "      <td>22</td>\n",
              "      <td>[none]</td>\n",
              "      <td>5845909</td>\n",
              "      <td>576597</td>\n",
              "      <td>39774</td>\n",
              "      <td>170708</td>\n",
              "      <td>https://i.ytimg.com/vi/cLdxuaxaQwc/default.jpg</td>\n",
              "      <td>13.09</td>\n",
              "    </tr>\n",
              "    <tr>\n",
              "      <th>3</th>\n",
              "      <td>WYYvHb03Eog</td>\n",
              "      <td>Apple iPhone X first look</td>\n",
              "      <td>The Verge</td>\n",
              "      <td>28</td>\n",
              "      <td>apple iphone x hands on|Apple iPhone X|iPhone ...</td>\n",
              "      <td>2642103</td>\n",
              "      <td>24975</td>\n",
              "      <td>4542</td>\n",
              "      <td>12829</td>\n",
              "      <td>https://i.ytimg.com/vi/WYYvHb03Eog/default.jpg</td>\n",
              "      <td>13.09</td>\n",
              "    </tr>\n",
              "    <tr>\n",
              "      <th>4</th>\n",
              "      <td>sjlHnJvXdQs</td>\n",
              "      <td>iPhone X (parody)</td>\n",
              "      <td>jacksfilms</td>\n",
              "      <td>23</td>\n",
              "      <td>jacksfilms|parody|parodies|iphone|iphone x|iph...</td>\n",
              "      <td>1168130</td>\n",
              "      <td>96666</td>\n",
              "      <td>568</td>\n",
              "      <td>6666</td>\n",
              "      <td>https://i.ytimg.com/vi/sjlHnJvXdQs/default.jpg</td>\n",
              "      <td>13.09</td>\n",
              "    </tr>\n",
              "  </tbody>\n",
              "</table>\n",
              "</div>"
            ],
            "text/plain": [
              "      video_id  ...   date\n",
              "0  XpVt6Z1Gjjo  ...  13.09\n",
              "1  K4wEI5zhHB0  ...  13.09\n",
              "2  cLdxuaxaQwc  ...  13.09\n",
              "3  WYYvHb03Eog  ...  13.09\n",
              "4  sjlHnJvXdQs  ...  13.09\n",
              "\n",
              "[5 rows x 11 columns]"
            ]
          },
          "metadata": {},
          "execution_count": 4
        }
      ]
    },
    {
      "cell_type": "markdown",
      "metadata": {
        "id": "wRmf8fErmI0C"
      },
      "source": [
        "### **1.1.1 Missing Data**"
      ]
    },
    {
      "cell_type": "code",
      "metadata": {
        "colab": {
          "base_uri": "https://localhost:8080/",
          "height": 510
        },
        "id": "-eniv_cKhjzf",
        "outputId": "2d6dde58-40de-4f29-c6d9-869cfabcfa74"
      },
      "source": [
        "plt.figure(figsize=(12,7))\n",
        "sns.heatmap(USvideos.isnull(),yticklabels=False,cbar=False,cmap='viridis')"
      ],
      "execution_count": null,
      "outputs": [
        {
          "output_type": "execute_result",
          "data": {
            "text/plain": [
              "<matplotlib.axes._subplots.AxesSubplot at 0x7f6df99e41d0>"
            ]
          },
          "metadata": {},
          "execution_count": 5
        },
        {
          "output_type": "display_data",
          "data": {
            "image/png": "[encoded data removed]",
            "text/plain": [
              "<Figure size 864x504 with 1 Axes>"
            ]
          },
          "metadata": {
            "needs_background": "light"
          }
        }
      ]
    },
    {
      "cell_type": "markdown",
      "metadata": {
        "id": "_DAML0QJlcmz"
      },
      "source": [
        "Surprisingly we see that no rows of any column has any missing data.\n",
        "\n"
      ]
    },
    {
      "cell_type": "markdown",
      "metadata": {
        "id": "CReDhm-ImnmJ"
      },
      "source": [
        "## **1.2 EDA**"
      ]
    },
    {
      "cell_type": "markdown",
      "metadata": {
        "id": "Gzcbkw1mmVpp"
      },
      "source": [
        "### **1.2.1 Adding categories column**"
      ]
    },
    {
      "cell_type": "code",
      "metadata": {
        "colab": {
          "base_uri": "https://localhost:8080/"
        },
        "id": "KfPRU0rykArE",
        "outputId": "ae98cca9-670a-4d96-b7d9-c7516efd8242"
      },
      "source": [
        "with open('https://raw.githubusercontent.com/princecj65779/Assignment-3---602/main/Data/US_category_id.json', 'r') as file:    \n",
        "    US_category_id = json.load(file)\n",
        "\n",
        "\n",
        "# create a dictionary to map 'category_id' as 'category'\n",
        "dic_cat = {}\n",
        "for category in US_category_id['items']:\n",
        "    dic_cat[category['id']] = category['snippet']['title']\n",
        "dic_cat\n",
        "print(dic_cat)"
      ],
      "execution_count": 20,
      "outputs": [
        {
          "output_type": "stream",
          "name": "stdout",
          "text": [
            "{'1': 'Film & Animation', '2': 'Autos & Vehicles', '10': 'Music', '15': 'Pets & Animals', '17': 'Sports', '18': 'Short Movies', '19': 'Travel & Events', '20': 'Gaming', '21': 'Videoblogging', '22': 'People & Blogs', '23': 'Comedy', '24': 'Entertainment', '25': 'News & Politics', '26': 'Howto & Style', '27': 'Education', '28': 'Science & Technology', '29': 'Nonprofits & Activism', '30': 'Movies', '31': 'Anime/Animation', '32': 'Action/Adventure', '33': 'Classics', '34': 'Comedy', '35': 'Documentary', '36': 'Drama', '37': 'Family', '38': 'Foreign', '39': 'Horror', '40': 'Sci-Fi/Fantasy', '41': 'Thriller', '42': 'Shorts', '43': 'Shows', '44': 'Trailers'}\n"
          ]
        }
      ]
    },
    {
      "cell_type": "markdown",
      "metadata": {
        "id": "fC9jbSQrsJwz"
      },
      "source": [
        "Since category_id column contains a list of integers, we convert them into strings to map the categories column.\n",
        "\n"
      ]
    },
    {
      "cell_type": "code",
      "metadata": {
        "colab": {
          "base_uri": "https://localhost:8080/",
          "height": 203
        },
        "id": "ThZd3uOfn--M",
        "outputId": "fbbe96ee-a540-4e1d-a9e5-25e62a09bcad"
      },
      "source": [
        "USvideos['category_id'] = USvideos['category_id'].astype(str)\n",
        "USvideos.insert(4, 'categories', USvideos['category_id'].map(dic_cat))\n",
        "USvideos.head()[['categories', 'category_id']]"
      ],
      "execution_count": 21,
      "outputs": [
        {
          "output_type": "execute_result",
          "data": {
            "text/html": [
              "<div>\n",
              "<style scoped>\n",
              "    .dataframe tbody tr th:only-of-type {\n",
              "        vertical-align: middle;\n",
              "    }\n",
              "\n",
              "    .dataframe tbody tr th {\n",
              "        vertical-align: top;\n",
              "    }\n",
              "\n",
              "    .dataframe thead th {\n",
              "        text-align: right;\n",
              "    }\n",
              "</style>\n",
              "<table border=\"1\" class=\"dataframe\">\n",
              "  <thead>\n",
              "    <tr style=\"text-align: right;\">\n",
              "      <th></th>\n",
              "      <th>categories</th>\n",
              "      <th>category_id</th>\n",
              "    </tr>\n",
              "  </thead>\n",
              "  <tbody>\n",
              "    <tr>\n",
              "      <th>0</th>\n",
              "      <td>Entertainment</td>\n",
              "      <td>24</td>\n",
              "    </tr>\n",
              "    <tr>\n",
              "      <th>1</th>\n",
              "      <td>Science &amp; Technology</td>\n",
              "      <td>28</td>\n",
              "    </tr>\n",
              "    <tr>\n",
              "      <th>2</th>\n",
              "      <td>People &amp; Blogs</td>\n",
              "      <td>22</td>\n",
              "    </tr>\n",
              "    <tr>\n",
              "      <th>3</th>\n",
              "      <td>Science &amp; Technology</td>\n",
              "      <td>28</td>\n",
              "    </tr>\n",
              "    <tr>\n",
              "      <th>4</th>\n",
              "      <td>Comedy</td>\n",
              "      <td>23</td>\n",
              "    </tr>\n",
              "  </tbody>\n",
              "</table>\n",
              "</div>"
            ],
            "text/plain": [
              "             categories category_id\n",
              "0         Entertainment          24\n",
              "1  Science & Technology          28\n",
              "2        People & Blogs          22\n",
              "3  Science & Technology          28\n",
              "4                Comedy          23"
            ]
          },
          "metadata": {},
          "execution_count": 21
        }
      ]
    },
    {
      "cell_type": "markdown",
      "metadata": {
        "id": "dOp0XFGvsjdM"
      },
      "source": [
        "Preview of the first 5 rows of the categories and the category_id column.\n",
        "\n"
      ]
    },
    {
      "cell_type": "markdown",
      "metadata": {
        "id": "GhQ6AVPL4wDn"
      },
      "source": [
        "### **1.2.2 Correlation Matrix and Heatmap**"
      ]
    },
    {
      "cell_type": "code",
      "metadata": {
        "colab": {
          "base_uri": "https://localhost:8080/",
          "height": 172
        },
        "id": "FzDtd4UGwkqn",
        "outputId": "f71a4199-50f7-4018-cd96-6bf155a58e2d"
      },
      "source": [
        "# First calculate for the correlation matrix\n",
        "htmp = USvideos[['views', 'likes', 'dislikes', 'comment_total']]\n",
        "htmp = htmp.corr()\n",
        "htmp"
      ],
      "execution_count": null,
      "outputs": [
        {
          "output_type": "execute_result",
          "data": {
            "text/html": [
              "<div>\n",
              "<style scoped>\n",
              "    .dataframe tbody tr th:only-of-type {\n",
              "        vertical-align: middle;\n",
              "    }\n",
              "\n",
              "    .dataframe tbody tr th {\n",
              "        vertical-align: top;\n",
              "    }\n",
              "\n",
              "    .dataframe thead th {\n",
              "        text-align: right;\n",
              "    }\n",
              "</style>\n",
              "<table border=\"1\" class=\"dataframe\">\n",
              "  <thead>\n",
              "    <tr style=\"text-align: right;\">\n",
              "      <th></th>\n",
              "      <th>views</th>\n",
              "      <th>likes</th>\n",
              "      <th>dislikes</th>\n",
              "      <th>comment_total</th>\n",
              "    </tr>\n",
              "  </thead>\n",
              "  <tbody>\n",
              "    <tr>\n",
              "      <th>views</th>\n",
              "      <td>1.000000</td>\n",
              "      <td>0.832844</td>\n",
              "      <td>0.541955</td>\n",
              "      <td>0.715557</td>\n",
              "    </tr>\n",
              "    <tr>\n",
              "      <th>likes</th>\n",
              "      <td>0.832844</td>\n",
              "      <td>1.000000</td>\n",
              "      <td>0.497439</td>\n",
              "      <td>0.836477</td>\n",
              "    </tr>\n",
              "    <tr>\n",
              "      <th>dislikes</th>\n",
              "      <td>0.541955</td>\n",
              "      <td>0.497439</td>\n",
              "      <td>1.000000</td>\n",
              "      <td>0.543983</td>\n",
              "    </tr>\n",
              "    <tr>\n",
              "      <th>comment_total</th>\n",
              "      <td>0.715557</td>\n",
              "      <td>0.836477</td>\n",
              "      <td>0.543983</td>\n",
              "      <td>1.000000</td>\n",
              "    </tr>\n",
              "  </tbody>\n",
              "</table>\n",
              "</div>"
            ],
            "text/plain": [
              "                  views     likes  dislikes  comment_total\n",
              "views          1.000000  0.832844  0.541955       0.715557\n",
              "likes          0.832844  1.000000  0.497439       0.836477\n",
              "dislikes       0.541955  0.497439  1.000000       0.543983\n",
              "comment_total  0.715557  0.836477  0.543983       1.000000"
            ]
          },
          "metadata": {},
          "execution_count": 9
        }
      ]
    },
    {
      "cell_type": "code",
      "metadata": {
        "colab": {
          "base_uri": "https://localhost:8080/",
          "height": 488
        },
        "id": "-To6UusM2sSl",
        "outputId": "8dcdf8ab-669b-4d2a-ba59-6621652c5028"
      },
      "source": [
        "# Set figure size\n",
        "fig, ax = plt.subplots(figsize=(10,8))\n",
        "\n",
        "# Plot heatmap\n",
        "sns.heatmap(htmp, annot=True, linewidths=0.5, cmap=\"YlGnBu\")\n",
        "plt.show()"
      ],
      "execution_count": null,
      "outputs": [
        {
          "output_type": "display_data",
          "data": {
            "image/png": "[encoded data removed]",
            "text/plain": [
              "<Figure size 720x576 with 2 Axes>"
            ]
          },
          "metadata": {
            "needs_background": "light"
          }
        }
      ]
    },
    {
      "cell_type": "markdown",
      "metadata": {
        "id": "-bjWtfv26afC"
      },
      "source": [
        "\n",
        "\n",
        "*   We see above that there is a positive correlation between all the columns ($0 &lt; r &lt; 1$)\n",
        "*   Note that positive correlation means that when one variable increases, so does the other, or when one variable decreases, so does the other.\n",
        "*   There is a strong positive correlation between likes and views ($r=0.83$), and likes and comments ($r=0.84$).\n",
        "*   Lowest positive correlation exists between likes and dislikes ($r=0.5$).\n",
        "\n",
        "\n"
      ]
    },
    {
      "cell_type": "markdown",
      "metadata": {
        "id": "-vNSNCZW3OvY"
      },
      "source": [
        "\n",
        "### **1.2.3 Views by Categories**\n"
      ]
    },
    {
      "cell_type": "code",
      "metadata": {
        "id": "rdHxv4Ri25M9"
      },
      "source": [
        "# Group data by 'categories'\n",
        "views_by_cat = USvideos.groupby('categories')\n",
        "cat_list = list(views_by_cat.first().index.values)\n",
        "\n",
        "# Loop to make a list of views per category\n",
        "views = []\n",
        "for category in cat_list:\n",
        "    views.append(views_by_cat.get_group(category)['views'].sum()) # Add up all the views\n",
        "\n",
        "# Make a DataFrame and sort 'views' in descending order\n",
        "data = {\"Categories\": cat_list, \"Views\": views}\n",
        "data = pd.DataFrame(data).sort_values(ascending=False, by='Views')\n",
        "data.head(5)"
      ],
      "execution_count": null,
      "outputs": []
    },
    {
      "cell_type": "code",
      "metadata": {
        "id": "h4wKUPmr3PrW"
      },
      "source": [
        "# Plot data\n",
        "ax = data.plot.bar(x='Categories', y='Views', rot=73, edgecolor='black', \n",
        "                   linewidth=2, align='center', figsize=(8,4), width=0.8, legend=None)\n",
        "\n",
        "# Set axis labels and title\n",
        "ax.set_ylabel(\"Number of Views (in Ten Billion)\", size=12)\n",
        "ax.set_xlabel(\"Categories\", size=12)\n",
        "ax.set_title(\"Views by Categories\", size=15)\n",
        "\n",
        "plt.show()"
      ],
      "execution_count": null,
      "outputs": []
    },
    {
      "cell_type": "markdown",
      "metadata": {
        "id": "aC_neJl33n3q"
      },
      "source": [
        "\n",
        "*   We see that Entertainment and Music are the two categories with the most views (Both greater than seventeen billion views).\n",
        "\n",
        "*   We see that Entertainment and Music are unusually greater than other categories, i.e. Comedy, People & Blogs, and etc...\n",
        "\n",
        "*   Movies, Shows, Travel & Events are the categories with the lowest number of views.\n"
      ]
    },
    {
      "cell_type": "markdown",
      "metadata": {
        "id": "spSfHAW64K1x"
      },
      "source": [
        "### **1.2.4 Likes by Categories**"
      ]
    },
    {
      "cell_type": "code",
      "metadata": {
        "id": "2ihRg7nn3iBx"
      },
      "source": [
        "# Loop to make a list of likes per category\n",
        "likes = []\n",
        "for category in cat_list:\n",
        "    likes.append(views_by_cat.get_group(category)['likes'].sum()) # Add up all the likes\n",
        "\n",
        "# Make a DataFrame and sort 'views' in descending order\n",
        "data = {\"Categories\": cat_list, \"Likes\": likes}\n",
        "data = pd.DataFrame(data).sort_values(ascending=False, by='Likes')\n",
        "data.head(5)"
      ],
      "execution_count": null,
      "outputs": []
    },
    {
      "cell_type": "code",
      "metadata": {
        "id": "QWl2h-bA5OA2"
      },
      "source": [
        "# Plot data\n",
        "ax = data.plot.bar(x='Categories', y='Likes', rot=73, edgecolor='black', \n",
        "                   linewidth=2, align='center', figsize=(8,4), width=0.8)\n",
        "\n",
        "# Set axis labels and title\n",
        "ax.set_ylabel(\"Number of Likes\", size=12)\n",
        "ax.set_xlabel(\"Categories\", size=12)\n",
        "ax.set_title(\"Likes by Categories\", size=15)\n",
        "\n",
        "plt.show()"
      ],
      "execution_count": null,
      "outputs": []
    },
    {
      "cell_type": "markdown",
      "metadata": {
        "id": "hNQ6D4-J5W7k"
      },
      "source": [
        "\n",
        "\n",
        "*   We see again that Entertainment and Music are the categories with the most likes.\n",
        "*   However, note that this time, Music outnumbered Entertainment in terms of number of likes.\n",
        "*   Again, we see that Nonprofits and Activism and Shows has the lowest likes.\n",
        "   *   This result is parallel to the correlation coefficient above in the heatmap above since views and likes had relatively high value ($r=0.83$)\n"
      ]
    },
    {
      "cell_type": "markdown",
      "metadata": {
        "id": "VnSgP4LZ7lgB"
      },
      "source": [
        "### **1.2.5 Dislikes by Categories**"
      ]
    },
    {
      "cell_type": "code",
      "metadata": {
        "id": "9NjCxd-h5TGu"
      },
      "source": [
        "# Loop to make a list of dislikes per category\n",
        "dislikes = []\n",
        "for category in cat_list:\n",
        "    dislikes.append(views_by_cat.get_group(category)['dislikes'].sum()) # Add up all the dislikes\n",
        "\n",
        "# Make a DataFrame and sort 'views' in descending order\n",
        "data = {\"Categories\": cat_list, \"Dislikes\": dislikes}\n",
        "data = pd.DataFrame(data).sort_values(ascending=False, by='Dislikes')\n",
        "data.head(5)"
      ],
      "execution_count": null,
      "outputs": []
    },
    {
      "cell_type": "markdown",
      "metadata": {
        "id": "t6L7RwLV73WP"
      },
      "source": [
        "\n",
        "\n",
        "*   We see again that Entertainment and Music had the most dislikes.\n",
        "\n",
        "*   Again, we see that Nonprofits and Activism and Shows has the lowest dislikes.\n",
        "\n",
        "  *   Again, we can relate this result with the heatmap above, as there was a positive correlation between views and dislikes ($r=0.54$), we see that the order in which each of the categories are aligned on the graphs are similar to that of the views and the dislikes.\n"
      ]
    },
    {
      "cell_type": "markdown",
      "metadata": {
        "id": "vlJ-Jl1o9KIa"
      },
      "source": [
        "### **1.2.6 Comments by Categories**"
      ]
    },
    {
      "cell_type": "code",
      "metadata": {
        "id": "0unwQSOA7yNY"
      },
      "source": [
        "# Loop to make a list of likes per category\n",
        "comments = []\n",
        "for category in cat_list:\n",
        "    comments.append(views_by_cat.get_group(category)['comment_total'].sum()) # Add up all the comments\n",
        "\n",
        "# Make a DataFrame and sort 'views' in descending order\n",
        "data = {\"Categories\": cat_list, \"Comments\": comments}\n",
        "data = pd.DataFrame(data).sort_values(ascending=False, by='Comments')\n",
        "data.head(5)"
      ],
      "execution_count": null,
      "outputs": []
    },
    {
      "cell_type": "code",
      "metadata": {
        "id": "b28KM_RO9UW_"
      },
      "source": [
        "# Plot data\n",
        "ax = data.plot.bar(x='Categories', y='Comments', rot=73, edgecolor='black', \n",
        "                   linewidth=2, align='center', figsize=(8,4), width=0.8)\n",
        "\n",
        "# Set axis labels and title\n",
        "ax.set_ylabel(\"Number of Comments\", size=12)\n",
        "ax.set_xlabel(\"Categories\", size=12)\n",
        "ax.set_title(\"Comments by Categories\", size=15)\n",
        "\n",
        "plt.show()"
      ],
      "execution_count": null,
      "outputs": []
    },
    {
      "cell_type": "markdown",
      "metadata": {
        "id": "JRmh0cav9jRZ"
      },
      "source": [
        "* We see again that Entertainment and Music had the most comments.\n",
        "* Entertainment and Music had the most comments.\n",
        "* Nonprofits and Activism and Movies had the least comments."
      ]
    },
    {
      "cell_type": "markdown",
      "metadata": {
        "id": "rrQSZpZgA1eK"
      },
      "source": [
        "### **1.2.7 Pie Chart of Categories**"
      ]
    },
    {
      "cell_type": "code",
      "metadata": {
        "id": "emae-Auv9d4n"
      },
      "source": [
        "# Group data by 'categories'\n",
        "cat_count = USvideos.groupby('categories')\n",
        "cat_count = cat_count['categories'].count()\n",
        "cat_count\n"
      ],
      "execution_count": null,
      "outputs": []
    },
    {
      "cell_type": "code",
      "metadata": {
        "id": "qlKLPMfHA_SY"
      },
      "source": [
        "# Get lists of category lists and counts\n",
        "# cat_list = list(cat_count.index.values)\n",
        "cat_count = list(cat_count)\n",
        "\n",
        "# Plot Pie Plot\n",
        "plt.pie(cat_count, labels=cat_list, autopct='%.1f%%', pctdistance=0.7, shadow=True, radius=2.6)\n",
        "plt.title(\"Categories\", size=15, color='white')\n",
        "plt.legend(loc='upper right', bbox_to_anchor=(1, 0, 1.8, 1), title=\"categories\")\n",
        "\n",
        "plt.show()"
      ],
      "execution_count": null,
      "outputs": []
    },
    {
      "cell_type": "markdown",
      "metadata": {
        "id": "CF01zIDABT2u"
      },
      "source": [
        "\n",
        "* Proportion of videos in different categories.\n",
        "* We see Entertainment had the biggest proprotion, close to a 3rd of all the videos ($20.0$%).\n"
      ]
    },
    {
      "cell_type": "markdown",
      "metadata": {
        "id": "_k2TA6TlBlFO"
      },
      "source": [
        "### **1.2.8 Log-Histogram of Views/Likes/Dislikes/Comments**"
      ]
    },
    {
      "cell_type": "code",
      "metadata": {
        "id": "6BcCu7NeBMbx"
      },
      "source": [
        "# Set figure size\n",
        "fig, ax = plt.subplots(figsize=(10,6))\n",
        "\n",
        "# Set theme\n",
        "sns.set_style('darkgrid')\n",
        "\n",
        "# Plot all four histograms\n",
        "plt.hist(np.log(USvideos['views']+1), bins=30,alpha=0.5)\n",
        "plt.hist(np.log(USvideos['likes']+1), bins=30,alpha=0.5)\n",
        "plt.hist(np.log(USvideos['dislikes']+1), bins=30,alpha=0.5)\n",
        "plt.hist(np.log(USvideos['comment_total']+1), bins=30,alpha=0.5)\n",
        "\n",
        "# Grid/Labels/Title/Legend\n",
        "plt.xlabel('Log Number of Views/Likes/Dislikes/Comments', size=15)\n",
        "plt.ylabel('Number of Frequencies', size=15)\n",
        "plt.title('Log Histogram of Views/Likes/Dislikes/Comments with Density plot', size=17)\n",
        "plt.legend(['Views','Likes','Dislikes','Comments'])\n",
        "\n",
        "plt.show()"
      ],
      "execution_count": null,
      "outputs": []
    },
    {
      "cell_type": "markdown",
      "metadata": {
        "id": "wV9IT_O-CUyq"
      },
      "source": [
        "* Because the number of views greatly outweighs those of likes/dislikes/comments, we take the log of the number of views/likes/dislikes/comments to compare them together.\n",
        "* We see that histogram of views/likes/dislikes/comments looks normal, i.e.bell-shaped curves.\n",
        "* Mean value of views is the greatest, while the mean values of dislikes is the lowest."
      ]
    },
    {
      "cell_type": "markdown",
      "metadata": {
        "id": "7avmCHu0C2Pm"
      },
      "source": [
        "### **1.2.9 Scatterplot Comparison of Views/Likes/Dislikes/Comments**"
      ]
    },
    {
      "cell_type": "code",
      "metadata": {
        "id": "v0lJBdOEB9wk"
      },
      "source": [
        "\n",
        "# Set figure size and theme\n",
        "fig, ax = plt.subplots(figsize=(10,6))\n",
        "sns.set_style('darkgrid')\n",
        "\n",
        "# Plot Scatter Plots\n",
        "plt.scatter(USvideos['views'], USvideos['likes'])\n",
        "plt.scatter(USvideos['views'], USvideos['dislikes'])\n",
        "plt.scatter(USvideos['views'], USvideos['comment_total'])\n",
        "\n",
        "# Legend/Axis labels/Title\n",
        "plt.legend(['Views vs Likes', 'Views vs Dislikes', 'Views vs Comments'])\n",
        "plt.title('Views vs Likes/Dislikes/Comments', size=17)\n",
        "plt.xlabel('Number of Views', size=15)\n",
        "plt.ylabel('Number of Likes/Dislikes/Comments', size=15)\n",
        "\n",
        "plt.show()"
      ],
      "execution_count": null,
      "outputs": []
    },
    {
      "cell_type": "markdown",
      "metadata": {
        "id": "_9eR0kh6eCIs"
      },
      "source": [
        "### **1.2.10 Histogram to see the frequent number of tags**"
      ]
    },
    {
      "cell_type": "code",
      "metadata": {
        "id": "GhD1LkhDKK8T"
      },
      "source": [
        "def form_hist(given_list,top_n):\n",
        "    \"\"\"\n",
        "    Returns a sorted histogram dataframe (with top_n rows) for a given list.\n",
        "    \"\"\"\n",
        "    item_set = set(given_list)\n",
        "    items = []\n",
        "    counts = []\n",
        "    for nm in item_set:\n",
        "        items.append(nm)\n",
        "        counts.append(given_list.count(nm))\n",
        "    return pd.DataFrame({'count':counts,'items':items}).sort_values(by='count',ascending=False).head(top_n)\n",
        "\n",
        "create_hist(USvideos,20,'US - Most Frequent Tags')\n"
      ],
      "execution_count": null,
      "outputs": []
    },
    {
      "cell_type": "markdown",
      "metadata": {
        "id": "Se8W267fdmGG"
      },
      "source": [
        "Here we created a sorted histogram to see the tags which are most frequent."
      ]
    },
    {
      "cell_type": "markdown",
      "metadata": {
        "id": "dKn_Nbe7eMG2"
      },
      "source": [
        "### **By doing the analysis above we can conclude many things from above**\n",
        "\n",
        "* There were no missing values in this data which is somewhat rare to find.\n",
        "\n",
        "* There is a strong positive correlation between likes and views ( r=0.83 ), and likes and comments ( r=0.84 ).\n",
        "\n",
        "* The most viewed category of videos were also the most liked one as well.\n",
        "\n",
        "* Funny and comedy tags were used the most which suggests that entertainment and music videos with these tags would have higher number of views."
      ]
    }
  ]
}
